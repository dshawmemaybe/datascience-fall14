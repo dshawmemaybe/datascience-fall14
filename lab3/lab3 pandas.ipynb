{
 "metadata": {
  "name": ""
 },
 "nbformat": 3,
 "nbformat_minor": 0,
 "worksheets": [
  {
   "cells": [
    {
     "cell_type": "code",
     "collapsed": false,
     "input": [
      "# Import pandas and numpy\n",
      "import pandas as pd\n",
      "import numpy as np\n",
      "\n",
      "# Set some Pandas options\n",
      "pd.set_option('display.notebook_repr_html', False)\n",
      "pd.set_option('display.max_columns', 20)\n",
      "pd.set_option('display.max_rows', 25)"
     ],
     "language": "python",
     "metadata": {},
     "outputs": [],
     "prompt_number": 1
    },
    {
     "cell_type": "code",
     "collapsed": false,
     "input": [
      "cdystonia = pd.read_csv(\"data/cdystonia.csv\", index_col=None)\n",
      "cdystonia['twstrs'] = cdystonia['twstrs'].astype(np.float64)\n",
      "cdystonia.head()"
     ],
     "language": "python",
     "metadata": {},
     "outputs": [
      {
       "metadata": {},
       "output_type": "pyout",
       "prompt_number": 2,
       "text": [
        "   patient  obs  week  site  id  treat  age sex  twstrs\n",
        "0        1    1     0     1   1  5000U   65   F      32\n",
        "1        1    2     2     1   1  5000U   65   F      30\n",
        "2        1    3     4     1   1  5000U   65   F      24\n",
        "3        1    4     8     1   1  5000U   65   F      37\n",
        "4        1    5    12     1   1  5000U   65   F      39\n",
        "\n",
        "[5 rows x 9 columns]"
       ]
      }
     ],
     "prompt_number": 2
    },
    {
     "cell_type": "code",
     "collapsed": false,
     "input": [
      "treat_map = {'Placebo': 0, '5000U': 1, '10000U': 2}"
     ],
     "language": "python",
     "metadata": {},
     "outputs": [],
     "prompt_number": 3
    },
    {
     "cell_type": "code",
     "collapsed": false,
     "input": [
      "cdystonia['treatment'] = cdystonia['treat'].replace(treat_map)"
     ],
     "language": "python",
     "metadata": {},
     "outputs": [],
     "prompt_number": 4
    },
    {
     "cell_type": "code",
     "collapsed": false,
     "input": [
      "cdystonia.head()"
     ],
     "language": "python",
     "metadata": {},
     "outputs": [
      {
       "metadata": {},
       "output_type": "pyout",
       "prompt_number": 5,
       "text": [
        "   patient  obs  week  site  id  treat  age sex  twstrs  treatment\n",
        "0        1    1     0     1   1  5000U   65   F      32          1\n",
        "1        1    2     2     1   1  5000U   65   F      30          1\n",
        "2        1    3     4     1   1  5000U   65   F      24          1\n",
        "3        1    4     8     1   1  5000U   65   F      37          1\n",
        "4        1    5    12     1   1  5000U   65   F      39          1\n",
        "\n",
        "[5 rows x 10 columns]"
       ]
      }
     ],
     "prompt_number": 5
    },
    {
     "cell_type": "code",
     "collapsed": false,
     "input": [
      "cutOutput = pd.cut(cdystonia['age'],[20,40,60,80,90])"
     ],
     "language": "python",
     "metadata": {},
     "outputs": [],
     "prompt_number": 6
    },
    {
     "cell_type": "code",
     "collapsed": false,
     "input": [
      "cutOutput[:30]"
     ],
     "language": "python",
     "metadata": {},
     "outputs": [
      {
       "metadata": {},
       "output_type": "pyout",
       "prompt_number": 7,
       "text": [
        " (60, 80]\n",
        " (60, 80]\n",
        " (60, 80]\n",
        " (60, 80]\n",
        " (60, 80]\n",
        " (60, 80]\n",
        " (60, 80]\n",
        " (60, 80]\n",
        " (60, 80]\n",
        " (60, 80]\n",
        "...\n",
        " (40, 60]\n",
        " (40, 60]\n",
        " (40, 60]\n",
        " (60, 80]\n",
        " (60, 80]\n",
        " (60, 80]\n",
        " (60, 80]\n",
        " (60, 80]\n",
        " (60, 80]\n",
        " (40, 60]\n",
        " (40, 60]\n",
        "Levels (4): Index(['(20, 40]', '(40, 60]', '(60, 80]', '(80, 90]'], dtype=object)\n",
        "Length: 30"
       ]
      }
     ],
     "prompt_number": 7
    },
    {
     "cell_type": "code",
     "collapsed": false,
     "input": [
      "cdystonia['ageGroup'] = pd.cut(cdystonia['age'], [20,40,60,80,90], labels=['young', 'middle-aged', 'old', 'ancient'])"
     ],
     "language": "python",
     "metadata": {},
     "outputs": [],
     "prompt_number": 8
    },
    {
     "cell_type": "code",
     "collapsed": false,
     "input": [
      "cdystonia.head()"
     ],
     "language": "python",
     "metadata": {},
     "outputs": [
      {
       "metadata": {},
       "output_type": "pyout",
       "prompt_number": 9,
       "text": [
        "   patient  obs  week  site  id  treat  age sex  twstrs  treatment ageGroup\n",
        "0        1    1     0     1   1  5000U   65   F      32          1      old\n",
        "1        1    2     2     1   1  5000U   65   F      30          1      old\n",
        "2        1    3     4     1   1  5000U   65   F      24          1      old\n",
        "3        1    4     8     1   1  5000U   65   F      37          1      old\n",
        "4        1    5    12     1   1  5000U   65   F      39          1      old\n",
        "\n",
        "[5 rows x 11 columns]"
       ]
      }
     ],
     "prompt_number": 9
    },
    {
     "cell_type": "code",
     "collapsed": false,
     "input": [
      "cdystonia_group = cdystonia.groupby('patient')"
     ],
     "language": "python",
     "metadata": {},
     "outputs": [],
     "prompt_number": 10
    },
    {
     "cell_type": "code",
     "collapsed": false,
     "input": [
      "patientMeanTwstrs = cdystonia_group['twstrs'].aggregate(np.mean)"
     ],
     "language": "python",
     "metadata": {},
     "outputs": [],
     "prompt_number": 11
    },
    {
     "cell_type": "code",
     "collapsed": false,
     "input": [
      "patientMeanTwstrs.head()"
     ],
     "language": "python",
     "metadata": {},
     "outputs": [
      {
       "metadata": {},
       "output_type": "pyout",
       "prompt_number": 12,
       "text": [
        "patient\n",
        "1          33.000000\n",
        "2          47.666667\n",
        "3          30.500000\n",
        "4          60.000000\n",
        "5          46.166667\n",
        "Name: twstrs, dtype: float64"
       ]
      }
     ],
     "prompt_number": 12
    },
    {
     "cell_type": "code",
     "collapsed": false,
     "input": [
      "norm = lambda x: (x - x.mean()) / x.std()"
     ],
     "language": "python",
     "metadata": {},
     "outputs": [],
     "prompt_number": 13
    },
    {
     "cell_type": "code",
     "collapsed": false,
     "input": [
      "normalizedTWSTRS = cdystonia_group['twstrs'].transform(norm)"
     ],
     "language": "python",
     "metadata": {},
     "outputs": [],
     "prompt_number": 14
    },
    {
     "cell_type": "code",
     "collapsed": false,
     "input": [
      "normalizedTWSTRS.head()"
     ],
     "language": "python",
     "metadata": {},
     "outputs": [
      {
       "metadata": {},
       "output_type": "pyout",
       "prompt_number": 15,
       "text": [
        "0   -0.181369\n",
        "1   -0.544107\n",
        "2   -1.632322\n",
        "3    0.725476\n",
        "4    1.088214\n",
        "Name: twstrs, dtype: float64"
       ]
      }
     ],
     "prompt_number": 15
    },
    {
     "cell_type": "code",
     "collapsed": false,
     "input": [],
     "language": "python",
     "metadata": {},
     "outputs": []
    }
   ],
   "metadata": {}
  }
 ]
}